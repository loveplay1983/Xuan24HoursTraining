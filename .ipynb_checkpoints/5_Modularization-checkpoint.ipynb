{
 "cells": [
  {
   "cell_type": "markdown",
   "id": "ea9fe0de",
   "metadata": {},
   "source": [
    "    /# Structure of the files after modularization  \n",
    "https://www.learnpytorch.io/05_pytorch_going_modular/\n",
    "\n",
    "- `data_setup.py` \n",
    "> A file to preprare and download ata if needed.\n",
    "\n",
    "- `engine.py`\n",
    "> A file containing various training functions\n",
    "\n",
    "- `model_builder.py` or `model.py`  \n",
    "> A file to create a PyTorch model\n",
    "\n",
    "- `train.py`\n",
    "> A file to leverage all other files and train a target PyTorch model\n",
    "\n",
    "- `utils.py`\n",
    "> A file dedicated to helpful utility functions.\n",
    "\n",
    "\n",
    "### Better strategy\n",
    "- First Write your code in Jupyter Notebook for experiments and test.\n",
    "\n",
    "- Transfering your code from the Jupyter Notebook to Modularized python files. \n",
    "\n",
    "---\n",
    "\n",
    "# Example of actual production\n",
    "```shell\n",
    "python train.py --model MODEL_NAME --batch_size BATCH_SIZE --lr LEARNING_RATE --num_epochs NUM_EPOCHS\n",
    "\n",
    "```\n",
    "\n",
    "![example of actual production terminal command](./5_MODULARIZATION/imgs/05-python-train-command-line-annotated.png)\n",
    "![](https://raw.githubusercontent.com/mrdbourke/pytorch-deep-learning/main/images/05-training-sota-recipe.png)\n",
    "\n",
    "```shell\n",
    "going_modular/\n",
    "├── going_modular/\n",
    "│   ├── data_setup.py\n",
    "│   ├── engine.py\n",
    "│   ├── model_builder.py\n",
    "│   ├── train.py\n",
    "│   └── utils.py\n",
    "├── models/\n",
    "│   ├── 05_going_modular_cell_mode_tinyvgg_model.pth\n",
    "│   └── 05_going_modular_script_mode_tinyvgg_model.pth\n",
    "└── data/\n",
    "    └── pizza_steak_sushi/\n",
    "        ├── train/\n",
    "        │   ├── pizza/\n",
    "        │   │   ├── image01.jpeg\n",
    "        │   │   └── ...\n",
    "        │   ├── steak/\n",
    "        │   └── sushi/\n",
    "        └── test/\n",
    "            ├── pizza/\n",
    "            ├── steak/\n",
    "            └── sushi/\n",
    "```"
   ]
  },
  {
   "cell_type": "code",
   "execution_count": 1,
   "id": "1bf0c348",
   "metadata": {},
   "outputs": [
    {
     "name": "stdout",
     "output_type": "stream",
     "text": [
      "Writing test.txt\n"
     ]
    }
   ],
   "source": [
    "%%writefile test.txt\n",
    "`This following text is a test for %%writefile file.txt.`"
   ]
  },
  {
   "cell_type": "code",
   "execution_count": null,
   "id": "fdb19e59",
   "metadata": {},
   "outputs": [],
   "source": []
  }
 ],
 "metadata": {
  "kernelspec": {
   "display_name": "Python 3",
   "language": "python",
   "name": "python3"
  },
  "language_info": {
   "codemirror_mode": {
    "name": "ipython",
    "version": 3
   },
   "file_extension": ".py",
   "mimetype": "text/x-python",
   "name": "python",
   "nbconvert_exporter": "python",
   "pygments_lexer": "ipython3",
   "version": "3.10.2"
  }
 },
 "nbformat": 4,
 "nbformat_minor": 5
}
