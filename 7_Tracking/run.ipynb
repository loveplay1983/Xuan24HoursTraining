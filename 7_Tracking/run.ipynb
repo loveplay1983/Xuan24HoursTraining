{
 "cells": [
  {
   "cell_type": "markdown",
   "id": "6df59b06",
   "metadata": {},
   "source": [
    "# Different types of Tracking system\n",
    "- Python dictionaries, CSV files, print outs\n",
    "- TensorBoard       https://www.tensorflow.org/tensorboard/get_started\n",
    "- Weights && Biases https://wandb.ai/site/experiment-tracking\n",
    "- MLFlow  https://mlflow.org/\n",
    "\n"
   ]
  },
  {
   "cell_type": "code",
   "execution_count": null,
   "id": "e55ed8bd",
   "metadata": {},
   "outputs": [
    {
     "name": "stdout",
     "output_type": "stream",
     "text": [
      "[INFO] torch/torchvision versions not as required, installing nightly versions.\n",
      "Looking in indexes: https://pypi.org/simple, https://download.pytorch.org/whl/cu113\n",
      "Requirement already satisfied: torch in /home/loveplay1983/workstation/AI/utils/Anaconda3/envs/torch/lib/python3.11/site-packages (2.0.1)\n"
     ]
    }
   ],
   "source": [
    "# 1. Setup\n",
    "try:\n",
    "    import torch\n",
    "    import torchvision\n",
    "    assert int(torch.__version__.split(\".\")[1]) >= 12, \"torch version should be 1.12+\"\n",
    "    assert int(torchvision.__version__.split(\".\")[1]) >= 13, \"torchvision version should be .13+\"\n",
    "    \n",
    "    print(f\"torch vision: {torch.__version__}\")\n",
    "    print(f\"torchvision version: {torchvision.__version__}\")\n",
    "\n",
    "except:\n",
    "    print(f\"[INFO] torch/torchvision versions not as required, installing nightly versions.\")\n",
    "    !pip3 install -U torch torchvision torchaudio --extra-index-url https://download.pytorch.org/whl/cu113\n",
    "    import torch\n",
    "    import torchvision\n",
    "    print(f\"torch version: {torch.__version__}\")\n",
    "    print(f\"torchvision version: {torchvision.__version__}\")  "
   ]
  },
  {
   "cell_type": "code",
   "execution_count": null,
   "id": "0dad3268",
   "metadata": {},
   "outputs": [],
   "source": [
    "import matplotlib.pyplot as plt\n",
    "import torch\n",
    "import torchvision\n",
    "\n",
    "from torch import nn\n",
    "from torchvision import transforms\n",
    "\n",
    "try:\n",
    "    from torchinfo import summary\n",
    "except:\n",
    "    print(\"Didn't find torchinfo, installing...\")\n",
    "    !pip install -q torchinfo\n",
    "    from torchinfo import summary\n",
    "    \n",
    "    \n",
    "try:\n",
    "    from going_modular.going_modular import data_setup, engine\n",
    "except:\n",
    "    print(\"Didn't find going_modular scripts... downloading from github\")\n",
    "    !git clone https://github.com/mrdbourke/pytorch-deep-learning\n",
    "    !mv pytorch-deep-learning/going_modular .\n",
    "    !rm -rf pytorch-deep-learning\n",
    "    from going_modular.going_modular import data_setup, engine"
   ]
  },
  {
   "cell_type": "code",
   "execution_count": null,
   "id": "ae9c8e39",
   "metadata": {},
   "outputs": [],
   "source": [
    "device = \"cuda\" if torch.cuda.is_available() else \"cpu\"\n",
    "device"
   ]
  },
  {
   "cell_type": "code",
   "execution_count": null,
   "id": "d0177e81",
   "metadata": {},
   "outputs": [],
   "source": [
    "# Set seeds\n",
    "def set_seeds(seed: int=42):\n",
    "    torch.manual_seed(seed)\n",
    "    torch.cuda.manual_seed(seed)"
   ]
  },
  {
   "cell_type": "code",
   "execution_count": null,
   "id": "bfe3fd79",
   "metadata": {},
   "outputs": [],
   "source": [
    "# 2. get data\n",
    "import os\n",
    "import zipfile\n",
    "\n",
    "from pathlib import Path\n",
    "\n",
    "import requests\n",
    "\n",
    "def download_data(source: str,\n",
    "                  destination: str,\n",
    "                  remove_source: bool=True) -> Path:\n",
    "    \n",
    "    # Setup path to data folder\n",
    "    data_path = Path(\"data/\")\n",
    "    img_path = data_path / destination\n",
    "    \n",
    "    # if the img folder doesn't exist, download it and prepare it...\n",
    "    if img_path.is_dir():\n",
    "        print(\"Dir exists, skipping...\")\n",
    "        \n",
    "    else:\n",
    "        print(f\"Didn't find {img_path}, creating one...\")\n",
    "        img_path.mkdir(parents=True, exist_ok=True)\n",
    "        \n",
    "        # Download data\n",
    "        target_file = Path(source).name\n",
    "        with open(data_path / target_file, \"wb\") as f:\n",
    "            request = requests.get(source)\n",
    "            print(f\"Download {target_file} from {source}\")\n",
    "            f.write(request.content)\n",
    "        \n",
    "        with zipfile.ZipFile(data_path / target_file, \"r\") as zip_ref:\n",
    "            print(f\"Unzipping {target_file}\")\n",
    "            zip_ref.extractall(img_path)\n",
    "            \n",
    "        if remove_source:\n",
    "            os.remove(data_path / target_file)\n",
    "            \n",
    "    return img_path    "
   ]
  },
  {
   "cell_type": "code",
   "execution_count": null,
   "id": "20e95c0d",
   "metadata": {
    "scrolled": true
   },
   "outputs": [],
   "source": [
    "img_path = download_data(source=\"https://github.com/mrdbourke/pytorch-deep-learning/raw/main/data/pizza_steak_sushi.zip\",\n",
    "                         destination=\"pizza_steak_sushi\",remove_source=True)\n",
    "img_path"
   ]
  },
  {
   "cell_type": "code",
   "execution_count": null,
   "id": "818c64a1",
   "metadata": {},
   "outputs": [],
   "source": [
    "img_path"
   ]
  },
  {
   "cell_type": "code",
   "execution_count": null,
   "id": "e29c1536",
   "metadata": {},
   "outputs": [],
   "source": []
  }
 ],
 "metadata": {
  "kernelspec": {
   "display_name": "Python 3 (ipykernel)",
   "language": "python",
   "name": "python3"
  },
  "language_info": {
   "codemirror_mode": {
    "name": "ipython",
    "version": 3
   },
   "file_extension": ".py",
   "mimetype": "text/x-python",
   "name": "python",
   "nbconvert_exporter": "python",
   "pygments_lexer": "ipython3",
   "version": "3.11.3"
  }
 },
 "nbformat": 4,
 "nbformat_minor": 5
}
