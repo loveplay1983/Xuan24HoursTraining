{
 "cells": [
  {
   "cell_type": "code",
   "execution_count": 2,
   "id": "66f151dc",
   "metadata": {},
   "outputs": [
    {
     "data": {
      "text/plain": [
       "'2.0.1'"
      ]
     },
     "execution_count": 2,
     "metadata": {},
     "output_type": "execute_result"
    }
   ],
   "source": [
    "import torch\n",
    "from torch import nn # nn contains all of PyTorch's building blocks for neural networks\n",
    "import matplotlib.pyplot as plt\n",
    "\n",
    "# Check PyTorch version\n",
    "torch.__version__"
   ]
  },
  {
   "cell_type": "code",
   "execution_count": 1,
   "id": "78fc1b5b",
   "metadata": {},
   "outputs": [
    {
     "name": "stdout",
     "output_type": "stream",
     "text": [
      "PyTorch version: 2.0.1\n",
      "torchvision version: 0.15.2\n"
     ]
    }
   ],
   "source": [
    "# Import PyTorch\n",
    "import torch\n",
    "from torch import nn\n",
    "\n",
    "# Import torchvision \n",
    "import torchvision\n",
    "from torchvision import datasets\n",
    "from torchvision.transforms import ToTensor\n",
    "\n",
    "# Import matplotlib for visualization\n",
    "import matplotlib.pyplot as plt\n",
    "\n",
    "# Check versions\n",
    "# Note: your PyTorch version shouldn't be lower than 1.10.0 and torchvision version shouldn't be lower than 0.11\n",
    "print(f\"PyTorch version: {torch.__version__}\\ntorchvision version: {torchvision.__version__}\")"
   ]
  },
  {
   "cell_type": "markdown",
   "id": "682b0b16",
   "metadata": {},
   "source": [
    "# pathlib  \n",
    "https://realpython.com/python-pathlib/\n",
    "\n",
    "> The object-oriented approach is already quite visible when you contrast the pathlib syntax with the old os.path way of doing things. It gets even more obvious when you note that the heart of pathlib is the Path class\n",
    "\n",
    "# File handler\n",
    "https://phoenixnap.com/kb/file-handling-in-python\n",
    "\n"
   ]
  },
  {
   "cell_type": "code",
   "execution_count": 1,
   "id": "8f9903d0",
   "metadata": {},
   "outputs": [],
   "source": [
    "import glob\n",
    "import os\n",
    "import shutil"
   ]
  },
  {
   "cell_type": "code",
   "execution_count": 4,
   "id": "3455390b",
   "metadata": {},
   "outputs": [],
   "source": [
    "for file_name in glob.glob(\"*.txt\"):\n",
    "    new_path = os.path.join(\"archive\", file_name)  # generate the path object\n",
    "    shutil.move(file_name, new_path)  # move file to the path"
   ]
  },
  {
   "cell_type": "code",
   "execution_count": 9,
   "id": "11b64bb5",
   "metadata": {},
   "outputs": [],
   "source": [
    "# pathlib alone is able to accomplish the same task above\n",
    "\n",
    "from pathlib import Path\n",
    "\n",
    "for file_path in Path.cwd().glob(\"*.txt\"):\n",
    "    new_path = Path(\"archive\") / file_path.name\n",
    "    file_path.replace(new_path)  # Path object alone does both shutil and os.path.join"
   ]
  },
  {
   "cell_type": "code",
   "execution_count": 15,
   "id": "07245db2",
   "metadata": {},
   "outputs": [
    {
     "name": "stdout",
     "output_type": "stream",
     "text": [
      "<class 'pathlib.Path'>\n",
      "/home/loveplay1983/workstation/AI/utils/pytorch/pytorch/Xuan24HoursTraining/codeSnippet\n",
      "/home/loveplay1983\n",
      "/home/loveplay1983/Downloads\n"
     ]
    }
   ],
   "source": [
    "from pathlib import Path\n",
    "print(Path)\n",
    "print(Path.cwd())\n",
    "print(Path.home())\n",
    "print(Path(\"/home/loveplay1983/Downloads\"))"
   ]
  },
  {
   "cell_type": "code",
   "execution_count": 18,
   "id": "39f4ccdd",
   "metadata": {},
   "outputs": [
    {
     "ename": "NameError",
     "evalue": "name '__file__' is not defined",
     "output_type": "error",
     "traceback": [
      "\u001b[0;31m---------------------------------------------------------------------------\u001b[0m",
      "\u001b[0;31mNameError\u001b[0m                                 Traceback (most recent call last)",
      "Cell \u001b[0;32mIn[18], line 2\u001b[0m\n\u001b[1;32m      1\u001b[0m \u001b[38;5;66;03m# current modeule location\u001b[39;00m\n\u001b[0;32m----> 2\u001b[0m \u001b[38;5;28mprint\u001b[39m(\u001b[38;5;124mf\u001b[39m\u001b[38;5;124m\"\u001b[39m\u001b[38;5;124mCurrent module file is at -> \u001b[39m\u001b[38;5;132;01m{\u001b[39;00mPath(\u001b[38;5;18m__file__\u001b[39m)\u001b[38;5;241m.\u001b[39mparent\u001b[38;5;132;01m}\u001b[39;00m\u001b[38;5;124m\"\u001b[39m)\n",
      "\u001b[0;31mNameError\u001b[0m: name '__file__' is not defined"
     ]
    }
   ],
   "source": [
    "# current modeule location\n",
    "print(f\"Current module file is at -> {Path(__file__).parent}\")"
   ]
  },
  {
   "cell_type": "code",
   "execution_count": 22,
   "id": "f6fe0f74",
   "metadata": {},
   "outputs": [],
   "source": [
    "# Joing paths\n",
    "from pathlib import Path\n",
    "\n",
    "for file_path in Path.cwd().glob(\"*.txt\"):\n",
    "    new_path = Path(\"archive\") / file_path.name\n",
    "    file_path.rename(new_path)"
   ]
  },
  {
   "cell_type": "code",
   "execution_count": 23,
   "id": "fcf55cb8",
   "metadata": {},
   "outputs": [
    {
     "data": {
      "text/plain": [
       "PosixPath('/home/loveplay1983/python/example/test.py')"
      ]
     },
     "execution_count": 23,
     "metadata": {},
     "output_type": "execute_result"
    }
   ],
   "source": [
    "from pathlib import Path\n",
    "\n",
    "Path.home().joinpath(\"python\", \"example\", \"test.py\")"
   ]
  },
  {
   "cell_type": "markdown",
   "id": "84671e4f",
   "metadata": {},
   "source": [
    "# System operations \n",
    ".name: The filename without any directory  \n",
    ".stem: The filename without the file extension  \n",
    ".suffix: The file extension  \n",
    ".anchor: The part of the path before the directories  \n",
    ".parent: The directory containing the file, or the parent directory if the path is a directory  "
   ]
  },
  {
   "cell_type": "code",
   "execution_count": 28,
   "id": "b59586d0",
   "metadata": {},
   "outputs": [
    {
     "data": {
      "text/plain": [
       "PosixPath('/home/loveplay1983/Downloads/test.txt')"
      ]
     },
     "execution_count": 28,
     "metadata": {},
     "output_type": "execute_result"
    }
   ],
   "source": [
    "from pathlib import Path\n",
    "path= Path(\"/home/loveplay1983/Downloads/test.txt\")\n",
    "path"
   ]
  },
  {
   "cell_type": "code",
   "execution_count": 29,
   "id": "325a0c75",
   "metadata": {},
   "outputs": [
    {
     "data": {
      "text/plain": [
       "'test.txt'"
      ]
     },
     "execution_count": 29,
     "metadata": {},
     "output_type": "execute_result"
    }
   ],
   "source": [
    "path.name"
   ]
  },
  {
   "cell_type": "code",
   "execution_count": 30,
   "id": "f7308781",
   "metadata": {},
   "outputs": [
    {
     "data": {
      "text/plain": [
       "'test'"
      ]
     },
     "execution_count": 30,
     "metadata": {},
     "output_type": "execute_result"
    }
   ],
   "source": [
    "path.stem"
   ]
  },
  {
   "cell_type": "code",
   "execution_count": 31,
   "id": "59d8bf50",
   "metadata": {},
   "outputs": [
    {
     "data": {
      "text/plain": [
       "'.txt'"
      ]
     },
     "execution_count": 31,
     "metadata": {},
     "output_type": "execute_result"
    }
   ],
   "source": [
    "path.suffix"
   ]
  },
  {
   "cell_type": "code",
   "execution_count": 32,
   "id": "2be0efb9",
   "metadata": {},
   "outputs": [
    {
     "data": {
      "text/plain": [
       "'/'"
      ]
     },
     "execution_count": 32,
     "metadata": {},
     "output_type": "execute_result"
    }
   ],
   "source": [
    "path.anchor"
   ]
  },
  {
   "cell_type": "code",
   "execution_count": 33,
   "id": "5cb0eab8",
   "metadata": {},
   "outputs": [
    {
     "data": {
      "text/plain": [
       "PosixPath('/home/loveplay1983/Downloads')"
      ]
     },
     "execution_count": 33,
     "metadata": {},
     "output_type": "execute_result"
    }
   ],
   "source": [
    "path.parent"
   ]
  },
  {
   "cell_type": "code",
   "execution_count": 34,
   "id": "ff30fb0d",
   "metadata": {},
   "outputs": [
    {
     "data": {
      "text/plain": [
       "PosixPath('/home/loveplay1983')"
      ]
     },
     "execution_count": 34,
     "metadata": {},
     "output_type": "execute_result"
    }
   ],
   "source": [
    "path.parent.parent"
   ]
  },
  {
   "cell_type": "code",
   "execution_count": 35,
   "id": "86203a53",
   "metadata": {},
   "outputs": [
    {
     "data": {
      "text/plain": [
       "PosixPath('/home/loveplay1983/new.txt')"
      ]
     },
     "execution_count": 35,
     "metadata": {},
     "output_type": "execute_result"
    }
   ],
   "source": [
    "path.parent.parent / f\"new{path.suffix}\""
   ]
  },
  {
   "cell_type": "markdown",
   "id": "937f7c4f",
   "metadata": {},
   "source": [
    "# Read and write  \n",
    "\n",
    ".read_text() opens the path in text mode and returns the contents as a string.  \n",
    ".read_bytes() opens the path in binary mode and returns the contents as a byte string.  \n",
    ".write_text() opens the path and writes string data to it.  \n",
    ".write_bytes() opens the path in binary mode and writes data to it.  "
   ]
  },
  {
   "cell_type": "code",
   "execution_count": 38,
   "id": "f22d2422",
   "metadata": {},
   "outputs": [
    {
     "name": "stdout",
     "output_type": "stream",
     "text": [
      "* Banana\n",
      "* Apple\n",
      "* Peach\n",
      "* Chocolate\n",
      "* Nougat Bits\n"
     ]
    }
   ],
   "source": [
    "from pathlib import Path\n",
    "\n",
    "path = Path.cwd() / \"shopping_list.md\"\n",
    "\n",
    "with path.open(mode=\"r\", encoding=\"utf-8\") as md_file:\n",
    "    content = md_file.read()\n",
    "    groceries = [line for line in content.splitlines() if line.startswith(\"*\")]\n",
    "    \n",
    "print(\"\\n\".join(groceries))"
   ]
  },
  {
   "cell_type": "code",
   "execution_count": 41,
   "id": "618d2368",
   "metadata": {},
   "outputs": [
    {
     "name": "stdout",
     "output_type": "stream",
     "text": [
      "* Banana\n",
      "* Apple\n",
      "* Peach\n",
      "* Chocolate\n",
      "* Nougat Bits\n"
     ]
    },
    {
     "data": {
      "text/plain": [
       "50"
      ]
     },
     "execution_count": 41,
     "metadata": {},
     "output_type": "execute_result"
    }
   ],
   "source": [
    "from pathlib import Path\n",
    "\n",
    "content = Path(\"shopping_list.md\").read_text(encoding=\"utf-8\")\n",
    "groceries = [each for each in content.splitlines() if each.startswith(\"*\")]\n",
    "print(\"\\n\".join(groceries))\n",
    "\n",
    "Path(\"target_list.md\").write_text(\"\\n\".join(groceries), encoding=\"utf-8\")"
   ]
  },
  {
   "cell_type": "markdown",
   "id": "e34ac907",
   "metadata": {},
   "source": [
    "# Renaming Files  \n",
    ".with_stem(), .with_suffix(), or .with_name()"
   ]
  },
  {
   "cell_type": "code",
   "execution_count": 53,
   "id": "6a253bb1",
   "metadata": {},
   "outputs": [
    {
     "name": "stdout",
     "output_type": "stream",
     "text": [
      "/home/loveplay1983/workstation/AI/utils/pytorch/pytorch/Xuan24HoursTraining/codeSnippet/test.md\n"
     ]
    }
   ],
   "source": [
    "from pathlib import Path\n",
    "\n",
    "txt_path = Path.cwd() / \"test.md\"\n",
    "print(txt_path)"
   ]
  },
  {
   "cell_type": "code",
   "execution_count": 52,
   "id": "91792ff7",
   "metadata": {},
   "outputs": [
    {
     "data": {
      "text/plain": [
       "PosixPath('/home/loveplay1983/workstation/AI/utils/pytorch/pytorch/Xuan24HoursTraining/codeSnippet/test.md')"
      ]
     },
     "execution_count": 52,
     "metadata": {},
     "output_type": "execute_result"
    }
   ],
   "source": [
    "md_path = txt_path.with_suffix(\".md\")\n",
    "txt_path.replace(md_path)"
   ]
  },
  {
   "cell_type": "code",
   "execution_count": 54,
   "id": "3bd7a929",
   "metadata": {},
   "outputs": [
    {
     "data": {
      "text/plain": [
       "PosixPath('/home/loveplay1983/workstation/AI/utils/pytorch/pytorch/Xuan24HoursTraining/codeSnippet/target.txt')"
      ]
     },
     "execution_count": 54,
     "metadata": {},
     "output_type": "execute_result"
    }
   ],
   "source": [
    "md_path = txt_path.with_name(\"target.txt\")\n",
    "txt_path.replace(md_path)"
   ]
  },
  {
   "cell_type": "markdown",
   "id": "d9b8c14c",
   "metadata": {},
   "source": [
    "# Copying Files"
   ]
  },
  {
   "cell_type": "code",
   "execution_count": 56,
   "id": "b727e4e7",
   "metadata": {},
   "outputs": [],
   "source": [
    "from pathlib import Path"
   ]
  },
  {
   "cell_type": "code",
   "execution_count": 59,
   "id": "0dfc5d91",
   "metadata": {},
   "outputs": [
    {
     "data": {
      "text/plain": [
       "115"
      ]
     },
     "execution_count": 59,
     "metadata": {},
     "output_type": "execute_result"
    }
   ],
   "source": [
    "source = Path(\"shopping_list.md\")\n",
    "dest = source.with_stem(\"shopping_list_02\")\n",
    "dest.write_bytes(source.read_bytes())"
   ]
  },
  {
   "cell_type": "markdown",
   "id": "cb0c36f5",
   "metadata": {},
   "source": [
    "# Moving and Deleting"
   ]
  },
  {
   "cell_type": "code",
   "execution_count": 63,
   "id": "c027b783",
   "metadata": {},
   "outputs": [],
   "source": [
    "from pathlib import Path\n",
    "\n",
    "source = Path(\"hello.py\")\n",
    "dest = Path(\"good.py\")\n",
    "\n",
    "if not dest.exists():\n",
    "    source.replace(dest)"
   ]
  },
  {
   "cell_type": "code",
   "execution_count": 67,
   "id": "9a2ecc54",
   "metadata": {},
   "outputs": [],
   "source": [
    "from pathlib import Path\n",
    "\n",
    "source = Path(\"hello.py\")\n",
    "dest = Path(\"good.py\")\n",
    "\n",
    "try: \n",
    "    with dest.open(mode=\"xb\") as file:\n",
    "        file.write(source.read_bytes())\n",
    "except FileExistsError:\n",
    "    print(f\"File {dest} exists already\")\n",
    "else:\n",
    "    source.unlink()"
   ]
  },
  {
   "cell_type": "markdown",
   "id": "32e6dd68",
   "metadata": {},
   "source": [
    "# Empty files"
   ]
  },
  {
   "cell_type": "code",
   "execution_count": 68,
   "id": "9d103b9a",
   "metadata": {},
   "outputs": [
    {
     "data": {
      "text/plain": [
       "False"
      ]
     },
     "execution_count": 68,
     "metadata": {},
     "output_type": "execute_result"
    }
   ],
   "source": [
    "filename = Path(\"hello.txt\")\n",
    "filename.exists()"
   ]
  },
  {
   "cell_type": "code",
   "execution_count": 69,
   "id": "9ecc1178",
   "metadata": {},
   "outputs": [
    {
     "data": {
      "text/plain": [
       "True"
      ]
     },
     "execution_count": 69,
     "metadata": {},
     "output_type": "execute_result"
    }
   ],
   "source": [
    "filename.touch()\n",
    "filename.exists()"
   ]
  },
  {
   "cell_type": "markdown",
   "id": "7ac0bc5b",
   "metadata": {},
   "source": [
    "# tqdm  \n",
    "https://www.kaggle.com/code/nikhilkhetan/tqdm-tutorial   \n",
    "https://www.geeksforgeeks.org/python-how-to-make-a-terminal-progress-bar-using-tqdm/"
   ]
  },
  {
   "cell_type": "code",
   "execution_count": 3,
   "id": "ff8dbe13",
   "metadata": {},
   "outputs": [
    {
     "name": "stderr",
     "output_type": "stream",
     "text": [
      "100%|██████████████████████████| 10000000/10000000 [00:01<00:00, 9602740.04it/s]\n"
     ]
    }
   ],
   "source": [
    "from tqdm import tqdm\n",
    "for i in tqdm(range(10000000)):\n",
    "    ..."
   ]
  },
  {
   "cell_type": "code",
   "execution_count": 4,
   "id": "7a6662d4",
   "metadata": {},
   "outputs": [
    {
     "name": "stderr",
     "output_type": "stream",
     "text": [
      "100%|█████████████████████████████████████████████| 4/4 [00:02<00:00,  1.99it/s]\n"
     ]
    }
   ],
   "source": [
    "from time import sleep\n",
    "\n",
    "text = \"\"\n",
    "for char in tqdm([\"a\", \"b\", \"c\", \"d\"]):\n",
    "    sleep(.5)\n",
    "    text = text + char"
   ]
  },
  {
   "cell_type": "code",
   "execution_count": 6,
   "id": "070861da",
   "metadata": {},
   "outputs": [
    {
     "name": "stderr",
     "output_type": "stream",
     "text": [
      "100%|█████████████████████████████████████████| 100/100 [00:01<00:00, 97.08it/s]\n"
     ]
    }
   ],
   "source": [
    "from tqdm import trange\n",
    "\n",
    "for i in trange(100):\n",
    "    sleep(.01)"
   ]
  },
  {
   "cell_type": "code",
   "execution_count": 8,
   "id": "93468e5b",
   "metadata": {},
   "outputs": [],
   "source": [
    "# as a module with pipes\n",
    "# tar -zcf - docs/ | tqdm --bytes --total `du -sb docs/ | cut -f1` > backup.tgz"
   ]
  },
  {
   "cell_type": "code",
   "execution_count": 9,
   "id": "1784f8d2",
   "metadata": {},
   "outputs": [
    {
     "name": "stderr",
     "output_type": "stream",
     "text": [
      "1st loop:   0%|                                           | 0/4 [00:00<?, ?it/s]\n",
      "2nd loop:   0%|                                           | 0/5 [00:00<?, ?it/s]\u001b[A\n",
      "\n",
      "3rd loop:   0%|                                          | 0/10 [00:00<?, ?it/s]\u001b[A\u001b[A\n",
      "\n",
      "3rd loop: 100%|█████████████████████████████████| 10/10 [00:00<00:00, 98.81it/s]\u001b[A\u001b[A\n",
      "\n",
      "                                                                                \u001b[A\u001b[A\n",
      "2nd loop:  20%|███████                            | 1/5 [00:00<00:00,  9.23it/s]\u001b[A\n",
      "\n",
      "3rd loop:   0%|                                          | 0/10 [00:00<?, ?it/s]\u001b[A\u001b[A\n",
      "\n",
      "3rd loop: 100%|█████████████████████████████████| 10/10 [00:00<00:00, 98.80it/s]\u001b[A\u001b[A\n",
      "\n",
      "                                                                                \u001b[A\u001b[A\n",
      "2nd loop:  40%|██████████████                     | 2/5 [00:00<00:00,  8.87it/s]\u001b[A\n",
      "\n",
      "3rd loop:   0%|                                          | 0/10 [00:00<?, ?it/s]\u001b[A\u001b[A\n",
      "\n",
      "3rd loop: 100%|█████████████████████████████████| 10/10 [00:00<00:00, 98.82it/s]\u001b[A\u001b[A\n",
      "\n",
      "                                                                                \u001b[A\u001b[A\n",
      "2nd loop:  60%|█████████████████████              | 3/5 [00:00<00:00,  8.47it/s]\u001b[A\n",
      "\n",
      "3rd loop:   0%|                                          | 0/10 [00:00<?, ?it/s]\u001b[A\u001b[A\n",
      "\n",
      "3rd loop: 100%|█████████████████████████████████| 10/10 [00:00<00:00, 98.86it/s]\u001b[A\u001b[A\n",
      "\n",
      "                                                                                \u001b[A\u001b[A\n",
      "2nd loop:  80%|████████████████████████████       | 4/5 [00:00<00:00,  8.35it/s]\u001b[A\n",
      "\n",
      "3rd loop:   0%|                                          | 0/10 [00:00<?, ?it/s]\u001b[A\u001b[A\n",
      "\n",
      "3rd loop: 100%|█████████████████████████████████| 10/10 [00:00<00:00, 98.81it/s]\u001b[A\u001b[A\n",
      "\n",
      "                                                                                \u001b[A\u001b[A\n",
      "2nd loop: 100%|███████████████████████████████████| 5/5 [00:00<00:00,  8.37it/s]\u001b[A\n",
      "1st loop:  25%|████████▊                          | 1/4 [00:00<00:01,  1.66it/s]\n",
      "2nd loop:   0%|                                           | 0/5 [00:00<?, ?it/s]\u001b[A\n",
      "\n",
      "3rd loop:   0%|                                          | 0/10 [00:00<?, ?it/s]\u001b[A\u001b[A\n",
      "\n",
      "3rd loop: 100%|█████████████████████████████████| 10/10 [00:00<00:00, 98.91it/s]\u001b[A\u001b[A\n",
      "\n",
      "                                                                                \u001b[A\u001b[A\n",
      "2nd loop:  20%|███████                            | 1/5 [00:00<00:00,  8.65it/s]\u001b[A\n",
      "\n",
      "3rd loop:   0%|                                          | 0/10 [00:00<?, ?it/s]\u001b[A\u001b[A\n",
      "\n",
      "3rd loop: 100%|█████████████████████████████████| 10/10 [00:00<00:00, 98.75it/s]\u001b[A\u001b[A\n",
      "\n",
      "                                                                                \u001b[A\u001b[A\n",
      "2nd loop:  40%|██████████████                     | 2/5 [00:00<00:00,  8.33it/s]\u001b[A\n",
      "\n",
      "3rd loop:   0%|                                          | 0/10 [00:00<?, ?it/s]\u001b[A\u001b[A\n",
      "\n",
      "3rd loop: 100%|█████████████████████████████████| 10/10 [00:00<00:00, 98.93it/s]\u001b[A\u001b[A\n",
      "\n",
      "                                                                                \u001b[A\u001b[A\n",
      "2nd loop:  60%|█████████████████████              | 3/5 [00:00<00:00,  8.24it/s]\u001b[A\n",
      "\n",
      "3rd loop:   0%|                                          | 0/10 [00:00<?, ?it/s]\u001b[A\u001b[A\n",
      "\n",
      "3rd loop: 100%|█████████████████████████████████| 10/10 [00:00<00:00, 98.82it/s]\u001b[A\u001b[A\n",
      "\n",
      "                                                                                \u001b[A\u001b[A\n",
      "2nd loop:  80%|████████████████████████████       | 4/5 [00:00<00:00,  8.17it/s]\u001b[A\n",
      "\n",
      "3rd loop:   0%|                                          | 0/10 [00:00<?, ?it/s]\u001b[A\u001b[A\n",
      "\n",
      "3rd loop: 100%|█████████████████████████████████| 10/10 [00:00<00:00, 99.07it/s]\u001b[A\u001b[A\n",
      "\n",
      "                                                                                \u001b[A\u001b[A\n",
      "2nd loop: 100%|███████████████████████████████████| 5/5 [00:00<00:00,  8.29it/s]\u001b[A\n",
      "1st loop:  50%|█████████████████▌                 | 2/4 [00:01<00:01,  1.65it/s]\n",
      "2nd loop:   0%|                                           | 0/5 [00:00<?, ?it/s]\u001b[A\n",
      "\n",
      "3rd loop:   0%|                                          | 0/10 [00:00<?, ?it/s]\u001b[A\u001b[A\n",
      "\n",
      "3rd loop: 100%|█████████████████████████████████| 10/10 [00:00<00:00, 99.16it/s]\u001b[A\u001b[A\n",
      "\n",
      "                                                                                \u001b[A\u001b[A\n",
      "2nd loop:  20%|███████                            | 1/5 [00:00<00:00,  9.62it/s]\u001b[A\n",
      "\n",
      "3rd loop:   0%|                                          | 0/10 [00:00<?, ?it/s]\u001b[A\u001b[A\n",
      "\n",
      "3rd loop: 100%|█████████████████████████████████| 10/10 [00:00<00:00, 98.69it/s]\u001b[A\u001b[A\n",
      "\n",
      "                                                                                \u001b[A\u001b[A\n",
      "2nd loop:  40%|██████████████                     | 2/5 [00:00<00:00,  9.10it/s]\u001b[A\n",
      "\n",
      "3rd loop:   0%|                                          | 0/10 [00:00<?, ?it/s]\u001b[A\u001b[A\n",
      "\n",
      "3rd loop: 100%|█████████████████████████████████| 10/10 [00:00<00:00, 95.53it/s]\u001b[A\u001b[A\n",
      "\n",
      "                                                                                \u001b[A\u001b[A\n",
      "2nd loop:  60%|█████████████████████              | 3/5 [00:00<00:00,  8.68it/s]\u001b[A\n",
      "\n",
      "3rd loop:   0%|                                          | 0/10 [00:00<?, ?it/s]\u001b[A\u001b[A\n",
      "\n",
      "3rd loop: 100%|█████████████████████████████████| 10/10 [00:00<00:00, 98.79it/s]\u001b[A\u001b[A\n",
      "\n",
      "                                                                                \u001b[A\u001b[A\n",
      "2nd loop:  80%|████████████████████████████       | 4/5 [00:00<00:00,  8.63it/s]\u001b[A\n",
      "\n",
      "3rd loop:   0%|                                          | 0/10 [00:00<?, ?it/s]\u001b[A\u001b[A\n",
      "\n",
      "3rd loop: 100%|█████████████████████████████████| 10/10 [00:00<00:00, 98.97it/s]\u001b[A\u001b[A\n",
      "\n",
      "                                                                                \u001b[A\u001b[A\n",
      "2nd loop: 100%|███████████████████████████████████| 5/5 [00:00<00:00,  8.61it/s]\u001b[A\n",
      "1st loop:  75%|██████████████████████████▎        | 3/4 [00:01<00:00,  1.68it/s]\n",
      "2nd loop:   0%|                                           | 0/5 [00:00<?, ?it/s]\u001b[A\n",
      "\n",
      "3rd loop:   0%|                                          | 0/10 [00:00<?, ?it/s]\u001b[A\u001b[A\n",
      "\n",
      "3rd loop: 100%|█████████████████████████████████| 10/10 [00:00<00:00, 98.69it/s]\u001b[A\u001b[A\n",
      "\n",
      "                                                                                \u001b[A\u001b[A\n",
      "2nd loop:  20%|███████                            | 1/5 [00:00<00:00,  8.65it/s]\u001b[A\n",
      "\n",
      "3rd loop:   0%|                                          | 0/10 [00:00<?, ?it/s]\u001b[A\u001b[A\n",
      "\n",
      "3rd loop: 100%|█████████████████████████████████| 10/10 [00:00<00:00, 98.78it/s]\u001b[A\u001b[A\n",
      "\n",
      "                                                                                \u001b[A\u001b[A\n",
      "2nd loop:  40%|██████████████                     | 2/5 [00:00<00:00,  8.30it/s]\u001b[A\n",
      "\n",
      "3rd loop:   0%|                                          | 0/10 [00:00<?, ?it/s]\u001b[A\u001b[A\n",
      "\n",
      "3rd loop: 100%|█████████████████████████████████| 10/10 [00:00<00:00, 98.85it/s]\u001b[A\u001b[A\n",
      "\n",
      "                                                                                \u001b[A\u001b[A\n",
      "2nd loop:  60%|█████████████████████              | 3/5 [00:00<00:00,  8.27it/s]\u001b[A\n",
      "\n",
      "3rd loop:   0%|                                          | 0/10 [00:00<?, ?it/s]\u001b[A\u001b[A\n",
      "\n",
      "3rd loop: 100%|█████████████████████████████████| 10/10 [00:00<00:00, 98.96it/s]\u001b[A\u001b[A\n",
      "\n",
      "                                                                                \u001b[A\u001b[A\n",
      "2nd loop:  80%|████████████████████████████       | 4/5 [00:00<00:00,  8.26it/s]\u001b[A\n",
      "\n",
      "3rd loop:   0%|                                          | 0/10 [00:00<?, ?it/s]\u001b[A\u001b[A\n",
      "\n",
      "3rd loop: 100%|█████████████████████████████████| 10/10 [00:00<00:00, 98.98it/s]\u001b[A\u001b[A\n",
      "\n",
      "                                                                                \u001b[A\u001b[A\n",
      "2nd loop: 100%|███████████████████████████████████| 5/5 [00:00<00:00,  8.30it/s]\u001b[A\n",
      "1st loop: 100%|███████████████████████████████████| 4/4 [00:02<00:00,  1.66it/s]\n"
     ]
    }
   ],
   "source": [
    "# nested progress bars\n",
    "# https://stackoverflow.com/questions/41707229/why-is-tqdm-printing-to-a-newline-instead-of-updating-the-same-line\n",
    "\n",
    "for i in trange(4, desc=\"1st loop\"):\n",
    "    for j in trange(5, desc=\"2nd loop\"):\n",
    "        for k in trange(10, desc=\"3rd loop\", leave=False):\n",
    "            sleep(.01)"
   ]
  },
  {
   "cell_type": "code",
   "execution_count": 12,
   "id": "e5a46a06",
   "metadata": {},
   "outputs": [
    {
     "name": "stderr",
     "output_type": "stream",
     "text": [
      "3rd loop: 100%|█████████████████████████████████| 10/10 [00:00<00:00, 97.06it/s]\n",
      "3rd loop: 100%|█████████████████████████████████| 10/10 [00:00<00:00, 96.91it/s]\n",
      "3rd loop: 100%|█████████████████████████████████| 10/10 [00:00<00:00, 96.94it/s]\n",
      "3rd loop: 100%|█████████████████████████████████| 10/10 [00:00<00:00, 96.75it/s]\n",
      "3rd loop: 100%|█████████████████████████████████| 10/10 [00:00<00:00, 96.83it/s]\n",
      "2nd loop: 100%|███████████████████████████████████| 5/5 [00:00<00:00,  9.12it/s]\n",
      "3rd loop: 100%|█████████████████████████████████| 10/10 [00:00<00:00, 96.88it/s]\n",
      "3rd loop: 100%|█████████████████████████████████| 10/10 [00:00<00:00, 96.65it/s]\n",
      "3rd loop: 100%|█████████████████████████████████| 10/10 [00:00<00:00, 96.68it/s]\n",
      "3rd loop: 100%|█████████████████████████████████| 10/10 [00:00<00:00, 96.83it/s]\n",
      "3rd loop: 100%|█████████████████████████████████| 10/10 [00:00<00:00, 96.81it/s]\n",
      "2nd loop: 100%|███████████████████████████████████| 5/5 [00:00<00:00,  9.06it/s]\n",
      "3rd loop: 100%|█████████████████████████████████| 10/10 [00:00<00:00, 98.31it/s]\n",
      "3rd loop: 100%|█████████████████████████████████| 10/10 [00:00<00:00, 98.67it/s]\n",
      "3rd loop: 100%|█████████████████████████████████| 10/10 [00:00<00:00, 97.18it/s]\n",
      "3rd loop: 100%|█████████████████████████████████| 10/10 [00:00<00:00, 97.27it/s]\n",
      "3rd loop: 100%|█████████████████████████████████| 10/10 [00:00<00:00, 97.92it/s]\n",
      "2nd loop: 100%|███████████████████████████████████| 5/5 [00:00<00:00,  9.38it/s]\n",
      "3rd loop: 100%|█████████████████████████████████| 10/10 [00:00<00:00, 96.89it/s]\n",
      "3rd loop: 100%|█████████████████████████████████| 10/10 [00:00<00:00, 97.99it/s]\n",
      "3rd loop: 100%|█████████████████████████████████| 10/10 [00:00<00:00, 98.32it/s]\n",
      "3rd loop: 100%|█████████████████████████████████| 10/10 [00:00<00:00, 97.01it/s]\n",
      "3rd loop: 100%|█████████████████████████████████| 10/10 [00:00<00:00, 96.87it/s]\n",
      "2nd loop: 100%|███████████████████████████████████| 5/5 [00:00<00:00,  9.32it/s]\n",
      "1st loop: 100%|███████████████████████████████████| 4/4 [00:02<00:00,  1.82it/s]\n"
     ]
    }
   ],
   "source": [
    "for i in trange(4, desc=\"1st loop\", leave=True, position=0):\n",
    "    for j in trange(5, desc=\"2nd loop\", leave=True, position=0):\n",
    "        for k in trange(10, desc=\"3rd loop\", leave=True, position=0):\n",
    "            sleep(.01)"
   ]
  },
  {
   "cell_type": "code",
   "execution_count": 13,
   "id": "05dc8b91",
   "metadata": {},
   "outputs": [
    {
     "name": "stderr",
     "output_type": "stream",
     "text": [
      "Progress: 100%|████████████████████| 999999/999999 [00:00<00:00, 6890665.42it/s]\n"
     ]
    }
   ],
   "source": [
    "# with description\n",
    "for i in tqdm(range(999999), desc=\"Progress\"):\n",
    "    pass"
   ]
  },
  {
   "cell_type": "code",
   "execution_count": 14,
   "id": "ce9bcdb7",
   "metadata": {},
   "outputs": [
    {
     "name": "stderr",
     "output_type": "stream",
     "text": [
      "Processing %s d: 100%|████████████████████████████| 4/4 [00:01<00:00,  3.95it/s]\n"
     ]
    }
   ],
   "source": [
    "# dynamic description\n",
    "pbar = tqdm([\"a\", \"b\", \"c\", \"d\"])\n",
    "for char in pbar:\n",
    "    sleep(.25)\n",
    "    pbar.set_description(f\"Processing %s {char}\")"
   ]
  },
  {
   "cell_type": "code",
   "execution_count": 15,
   "id": "72c1aa79",
   "metadata": {},
   "outputs": [
    {
     "name": "stderr",
     "output_type": "stream",
     "text": [
      "100%|████████████████████████████| 9999999/9999999 [00:01<00:00, 9368231.93it/s]\n"
     ]
    }
   ],
   "source": [
    "for i in tqdm(range(9999999)):\n",
    "    pass"
   ]
  },
  {
   "cell_type": "code",
   "execution_count": 18,
   "id": "41ec4306",
   "metadata": {},
   "outputs": [
    {
     "name": "stderr",
     "output_type": "stream",
     "text": [
      "100%|████████████████████████████████████████████████████████████████████████████████████████████████████████████████████████████████████████████████████████████████████████████████████████████████████████████████████████████████████████████████████████████████████████████████████████████████████████████████████████████████████████████████████████████████████████████████████████████████████████████████████████████████████████████████████████████████████████████████████████████████████████████████████| 99999999/99999999 [00:09<00:00, 10435506.15it/s]\n"
     ]
    }
   ],
   "source": [
    "for i in tqdm(range(99999999), ncols=555):\n",
    "    pass"
   ]
  },
  {
   "cell_type": "code",
   "execution_count": 23,
   "id": "4d78d463",
   "metadata": {},
   "outputs": [
    {
     "name": "stderr",
     "output_type": "stream",
     "text": [
      "100%|#######################################################################################################################################################################################################################################################################################################################################################################################################################################################################################################################| 9999999/9999999 [00:01<00:00, 9320324.59it/s]\n"
     ]
    }
   ],
   "source": [
    "# ASCII characters (123456789#) to fill the progress bar\n",
    "for i in tqdm(range(9999999), ascii=True, ncols=555):\n",
    "    pass"
   ]
  },
  {
   "cell_type": "code",
   "execution_count": 24,
   "id": "9be2f889",
   "metadata": {},
   "outputs": [
    {
     "name": "stderr",
     "output_type": "stream",
     "text": [
      "100%|██████████████████████████| 99999999/99999999 [00:10<00:00, 9887229.30it/s]\n"
     ]
    }
   ],
   "source": [
    "#  Display progress updates after 'minintervals' seconds only\n",
    "\n",
    "for i in tqdm(range(99999999), mininterval=.5):\n",
    "    pass"
   ]
  },
  {
   "cell_type": "code",
   "execution_count": 25,
   "id": "01ab4b36",
   "metadata": {},
   "outputs": [
    {
     "name": "stderr",
     "output_type": "stream",
     "text": [
      "100%|███████████████████████████| 9999999/9999999 [00:00<00:00, 12678127.28it/s]\n"
     ]
    }
   ],
   "source": [
    "for i in tqdm(range(9999999), miniters=2000000):\n",
    "    pass"
   ]
  },
  {
   "cell_type": "code",
   "execution_count": 26,
   "id": "22d06773",
   "metadata": {},
   "outputs": [
    {
     "name": "stderr",
     "output_type": "stream",
     "text": [
      "100%|██████████████████████| 99999999/99999999 [00:09<00:00, 10259742.89loops/s]\n"
     ]
    }
   ],
   "source": [
    "for i in tqdm(range(99999999), unit=\"loops\"):\n",
    "    pass"
   ]
  },
  {
   "cell_type": "code",
   "execution_count": 27,
   "id": "71a6789c",
   "metadata": {},
   "outputs": [
    {
     "name": "stderr",
     "output_type": "stream",
     "text": [
      "100%|█████████████████████████████████████| 10.0M/10.0M [00:01<00:00, 9.34Mit/s]\n"
     ]
    }
   ],
   "source": [
    "for i in tqdm(range(9999999), unit_scale=True):\n",
    "    pass"
   ]
  },
  {
   "cell_type": "code",
   "execution_count": 28,
   "id": "bdc26dea",
   "metadata": {},
   "outputs": [
    {
     "name": "stderr",
     "output_type": "stream",
     "text": [
      "100%|█████████████████████████████████████| 10.0M/10.0M [00:01<00:00, 9.33Mit/s]\n"
     ]
    }
   ],
   "source": [
    " for i in tqdm(range(9999999), unit_scale=1):\n",
    "    pass"
   ]
  },
  {
   "cell_type": "code",
   "execution_count": 29,
   "id": "d0faa48e",
   "metadata": {},
   "outputs": [
    {
     "name": "stderr",
     "output_type": "stream",
     "text": [
      "100%|█████████████████████████████████████| 10.0G/10.0G [00:01<00:00, 9.26Mit/s]\n"
     ]
    }
   ],
   "source": [
    "for i in tqdm(range(9999999), unit_scale=True, unit_divisor=100):\n",
    "    pass"
   ]
  },
  {
   "cell_type": "code",
   "execution_count": null,
   "id": "4a5a00b7",
   "metadata": {},
   "outputs": [
    {
     "name": "stderr",
     "output_type": "stream",
     "text": [
      " 46%|\u001b[34m███████████▌             \u001b[0m| 46269224/99999999 [00:04<00:05, 10023221.55it/s]\u001b[0m"
     ]
    }
   ],
   "source": [
    "for i in tqdm(range(99999999), colour=\"blue\"):\n",
    "    pass"
   ]
  },
  {
   "cell_type": "code",
   "execution_count": null,
   "id": "901ab22a",
   "metadata": {},
   "outputs": [],
   "source": []
  }
 ],
 "metadata": {
  "kernelspec": {
   "display_name": "Python 3 (ipykernel)",
   "language": "python",
   "name": "python3"
  },
  "language_info": {
   "codemirror_mode": {
    "name": "ipython",
    "version": 3
   },
   "file_extension": ".py",
   "mimetype": "text/x-python",
   "name": "python",
   "nbconvert_exporter": "python",
   "pygments_lexer": "ipython3",
   "version": "3.11.3"
  }
 },
 "nbformat": 4,
 "nbformat_minor": 5
}
